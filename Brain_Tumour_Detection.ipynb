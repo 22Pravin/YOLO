{
  "nbformat": 4,
  "nbformat_minor": 0,
  "metadata": {
    "colab": {
      "provenance": []
    },
    "kernelspec": {
      "name": "python3",
      "display_name": "Python 3"
    },
    "language_info": {
      "name": "python"
    }
  },
  "cells": [
    {
      "cell_type": "code",
      "execution_count": null,
      "metadata": {
        "id": "WzLsQLY7G8w_"
      },
      "outputs": [],
      "source": [
        "+import numpy as np\n",
        "import pandas as pd\n",
        "import os\n",
        "from sklearn.model_selection import train_test_split\n",
        "from tensorflow.keras.preprocessing.image import ImageDataGenerator\n",
        "from tensorflow.keras.models import Sequential\n",
        "from tensorflow.keras.layers import Conv2D, MaxPooling2D, Flatten, Dense, Dropout\n",
        "from tensorflow.keras.preprocessing import image\n",
        "import numpy as np"
      ]
    },
    {
      "cell_type": "code",
      "source": [
        "data_dir = '/content/drive/MyDrive/brain_tumor_dataset'"
      ],
      "metadata": {
        "id": "x6SRlz8CG-C4"
      },
      "execution_count": null,
      "outputs": []
    },
    {
      "cell_type": "code",
      "source": [
        "from google.colab import drive\n",
        "drive.mount('/content/drive')"
      ],
      "metadata": {
        "colab": {
          "base_uri": "https://localhost:8080/"
        },
        "id": "jtTsn49tHA25",
        "outputId": "9f58a013-04cd-46df-e34e-591809ac950d"
      },
      "execution_count": null,
      "outputs": [
        {
          "output_type": "stream",
          "name": "stdout",
          "text": [
            "Drive already mounted at /content/drive; to attempt to forcibly remount, call drive.mount(\"/content/drive\", force_remount=True).\n"
          ]
        }
      ]
    },
    {
      "cell_type": "code",
      "source": [
        "!ls '/content/drive/MyDrive/brain_tumor_dataset'"
      ],
      "metadata": {
        "colab": {
          "base_uri": "https://localhost:8080/"
        },
        "id": "WN6-eGMdHDpi",
        "outputId": "4d2cf5ce-bdfd-445b-dbef-0f54aff1f21c"
      },
      "execution_count": null,
      "outputs": [
        {
          "output_type": "stream",
          "name": "stdout",
          "text": [
            "no  yes\n"
          ]
        }
      ]
    },
    {
      "cell_type": "code",
      "source": [
        "train_datagen = ImageDataGenerator(rescale=1./255)\n",
        "test_datagen = ImageDataGenerator(rescale=1./255)"
      ],
      "metadata": {
        "id": "lUSg123rHGyN"
      },
      "execution_count": null,
      "outputs": []
    },
    {
      "cell_type": "code",
      "source": [
        "data = []\n",
        "\n",
        "for label in ['yes', 'no']:\n",
        "    label_dir = os.path.join(data_dir, label)\n",
        "    for image_file in os.listdir(label_dir):\n",
        "        if image_file.endswith('.jpg'):\n",
        "            image_path = os.path.join(label_dir, image_file)\n",
        "            data.append((image_path, label))\n",
        "\n",
        "df = pd.DataFrame(data, columns=['image', 'label'])"
      ],
      "metadata": {
        "id": "2A_gxQOZJznB"
      },
      "execution_count": null,
      "outputs": []
    },
    {
      "cell_type": "code",
      "source": [
        "train_df, test_df = train_test_split(df, test_size=0.2, random_state=42)\n"
      ],
      "metadata": {
        "id": "BSuRp9a4J2UZ"
      },
      "execution_count": null,
      "outputs": []
    },
    {
      "cell_type": "code",
      "source": [
        "# Create data generators with data augmentation for training\n",
        "train_datagen = ImageDataGenerator(\n",
        "    rescale=1./255,\n",
        "    rotation_range=20,\n",
        "    width_shift_range=0.2,\n",
        "    height_shift_range=0.2,\n",
        "    shear_range=0.2,\n",
        "    zoom_range=0.2,\n",
        "    horizontal_flip=True\n",
        ")\n",
        "\n",
        "test_datagen = ImageDataGenerator(rescale=1./255)\n",
        "\n",
        "train_generator = train_datagen.flow_from_dataframe(\n",
        "    dataframe=train_df,\n",
        "    x_col='image',\n",
        "    y_col='label',\n",
        "    target_size=(64, 64),\n",
        "    batch_size=32,\n",
        "    class_mode='binary'  # Binary classification\n",
        ")\n",
        "\n",
        "test_generator = test_datagen.flow_from_dataframe(\n",
        "    dataframe=test_df,\n",
        "    x_col='image',\n",
        "    y_col='label',\n",
        "    target_size=(64, 64),\n",
        "    batch_size=32,\n",
        "    class_mode='binary',\n",
        "    shuffle=False\n",
        ")\n"
      ],
      "metadata": {
        "colab": {
          "base_uri": "https://localhost:8080/"
        },
        "id": "W7LlCw1dJ8FJ",
        "outputId": "efe207d4-01d2-454a-c71f-43ed262c3eb3"
      },
      "execution_count": null,
      "outputs": [
        {
          "output_type": "stream",
          "name": "stdout",
          "text": [
            "Found 135 validated image filenames belonging to 2 classes.\n",
            "Found 34 validated image filenames belonging to 2 classes.\n"
          ]
        }
      ]
    },
    {
      "cell_type": "code",
      "source": [
        "model = Sequential()\n",
        "model.add(Conv2D(32, (3, 3), input_shape=(64, 64, 3), activation='relu'))\n",
        "model.add(MaxPooling2D(pool_size=(2, 2)))\n",
        "\n",
        "model.add(Conv2D(64, (3, 3), activation='relu'))\n",
        "model.add(MaxPooling2D(pool_size=(2, 2)))\n",
        "\n",
        "model.add(Flatten())\n",
        "model.add(Dense(128, activation='relu'))\n",
        "model.add(Dropout(0.5))\n",
        "model.add(Dense(1, activation='sigmoid'))  # Binary classification\n",
        "\n",
        "model.compile(optimizer='adam', loss='binary_crossentropy', metrics=['accuracy'])"
      ],
      "metadata": {
        "id": "UUm_JpyEKJe5"
      },
      "execution_count": null,
      "outputs": []
    },
    {
      "cell_type": "code",
      "source": [
        "# Train the model\n",
        "history = model.fit(\n",
        "    train_generator,\n",
        "    steps_per_epoch=len(train_generator),\n",
        "    epochs=10,\n",
        "    validation_data=test_generator,\n",
        "    validation_steps=len(test_generator)\n",
        ")"
      ],
      "metadata": {
        "colab": {
          "base_uri": "https://localhost:8080/"
        },
        "id": "CYXDG2SFKZT4",
        "outputId": "ad585e6d-a81b-4c2c-bf19-59da5512e0ab"
      },
      "execution_count": null,
      "outputs": [
        {
          "output_type": "stream",
          "name": "stdout",
          "text": [
            "Epoch 1/10\n",
            "5/5 [==============================] - 45s 9s/step - loss: 0.8151 - accuracy: 0.5185 - val_loss: 0.6490 - val_accuracy: 0.6176\n",
            "Epoch 2/10\n",
            "5/5 [==============================] - 2s 293ms/step - loss: 0.7164 - accuracy: 0.4815 - val_loss: 0.6594 - val_accuracy: 0.6176\n",
            "Epoch 3/10\n",
            "5/5 [==============================] - 2s 283ms/step - loss: 0.6791 - accuracy: 0.5704 - val_loss: 0.6853 - val_accuracy: 0.5588\n",
            "Epoch 4/10\n",
            "5/5 [==============================] - 1s 260ms/step - loss: 0.6909 - accuracy: 0.5407 - val_loss: 0.6851 - val_accuracy: 0.6176\n",
            "Epoch 5/10\n",
            "5/5 [==============================] - 1s 266ms/step - loss: 0.6842 - accuracy: 0.5556 - val_loss: 0.6770 - val_accuracy: 0.5882\n",
            "Epoch 6/10\n",
            "5/5 [==============================] - 2s 471ms/step - loss: 0.6754 - accuracy: 0.6963 - val_loss: 0.6773 - val_accuracy: 0.5882\n",
            "Epoch 7/10\n",
            "5/5 [==============================] - 2s 402ms/step - loss: 0.6766 - accuracy: 0.6370 - val_loss: 0.6608 - val_accuracy: 0.6176\n",
            "Epoch 8/10\n",
            "5/5 [==============================] - 2s 384ms/step - loss: 0.6583 - accuracy: 0.6741 - val_loss: 0.6510 - val_accuracy: 0.6176\n",
            "Epoch 9/10\n",
            "5/5 [==============================] - 2s 287ms/step - loss: 0.6566 - accuracy: 0.6519 - val_loss: 0.6265 - val_accuracy: 0.5588\n",
            "Epoch 10/10\n",
            "5/5 [==============================] - 1s 316ms/step - loss: 0.6087 - accuracy: 0.7333 - val_loss: 0.6226 - val_accuracy: 0.5882\n"
          ]
        }
      ]
    },
    {
      "cell_type": "code",
      "source": [
        "# Evaluate on test set\n",
        "test_loss, test_accuracy = model.evaluate(test_generator)\n",
        "print(f'Test Accuracy: {test_accuracy * 100:.2f}%')"
      ],
      "metadata": {
        "colab": {
          "base_uri": "https://localhost:8080/"
        },
        "id": "OFE6puKMKbxe",
        "outputId": "87b35be6-a44b-4755-b4ef-88e50c7a1c20"
      },
      "execution_count": null,
      "outputs": [
        {
          "output_type": "stream",
          "name": "stdout",
          "text": [
            "2/2 [==============================] - 0s 18ms/step - loss: 0.6226 - accuracy: 0.5882\n",
            "Test Accuracy: 58.82%\n"
          ]
        }
      ]
    },
    {
      "cell_type": "code",
      "source": [
        "# Predict using the model\n",
        "predictions = model.predict(test_generator)\n",
        "predicted_labels = (predictions > 0.5).astype(int)"
      ],
      "metadata": {
        "colab": {
          "base_uri": "https://localhost:8080/"
        },
        "id": "YrGQIslBKiFr",
        "outputId": "355cea20-abfa-4a55-f3dc-2dea19e0516d"
      },
      "execution_count": null,
      "outputs": [
        {
          "output_type": "stream",
          "name": "stdout",
          "text": [
            "2/2 [==============================] - 0s 10ms/step\n"
          ]
        }
      ]
    },
    {
      "cell_type": "code",
      "source": [
        "# Display the predicted labels (yes or no)\n",
        "for i, label in enumerate(predicted_labels):\n",
        "    if label == 1:\n",
        "        print(f'Image {test_df.iloc[i][\"image\"]} has cancer (Yes)')\n",
        "    else:\n",
        "        print(f'Image {test_df.iloc[i][\"image\"]} does not have cancer (No)')"
      ],
      "metadata": {
        "colab": {
          "base_uri": "https://localhost:8080/"
        },
        "id": "k7caUi7hKvpy",
        "outputId": "f778677c-0310-4d37-9cfe-042bf779c399"
      },
      "execution_count": null,
      "outputs": [
        {
          "output_type": "stream",
          "name": "stdout",
          "text": [
            "Image /content/drive/MyDrive/brain_tumor_dataset/no/No11.jpg does not have cancer (No)\n",
            "Image /content/drive/MyDrive/brain_tumor_dataset/yes/Y245.jpg does not have cancer (No)\n",
            "Image /content/drive/MyDrive/brain_tumor_dataset/no/31 no.jpg has cancer (Yes)\n",
            "Image /content/drive/MyDrive/brain_tumor_dataset/yes/Y250.jpg has cancer (Yes)\n",
            "Image /content/drive/MyDrive/brain_tumor_dataset/no/No18.jpg does not have cancer (No)\n",
            "Image /content/drive/MyDrive/brain_tumor_dataset/no/no 100.jpg has cancer (Yes)\n",
            "Image /content/drive/MyDrive/brain_tumor_dataset/no/N5.jpg has cancer (Yes)\n",
            "Image /content/drive/MyDrive/brain_tumor_dataset/yes/Y35.jpg does not have cancer (No)\n",
            "Image /content/drive/MyDrive/brain_tumor_dataset/no/44no.jpg has cancer (Yes)\n",
            "Image /content/drive/MyDrive/brain_tumor_dataset/yes/Y252.jpg does not have cancer (No)\n",
            "Image /content/drive/MyDrive/brain_tumor_dataset/yes/Y102.jpg has cancer (Yes)\n",
            "Image /content/drive/MyDrive/brain_tumor_dataset/no/no 89.jpg does not have cancer (No)\n",
            "Image /content/drive/MyDrive/brain_tumor_dataset/no/18 no.jpg does not have cancer (No)\n",
            "Image /content/drive/MyDrive/brain_tumor_dataset/yes/Y42.jpg has cancer (Yes)\n",
            "Image /content/drive/MyDrive/brain_tumor_dataset/yes/Y9.jpg does not have cancer (No)\n",
            "Image /content/drive/MyDrive/brain_tumor_dataset/yes/Y6.jpg has cancer (Yes)\n",
            "Image /content/drive/MyDrive/brain_tumor_dataset/yes/Y180.jpg has cancer (Yes)\n",
            "Image /content/drive/MyDrive/brain_tumor_dataset/no/38 no.jpg does not have cancer (No)\n",
            "Image /content/drive/MyDrive/brain_tumor_dataset/yes/Y77.jpg has cancer (Yes)\n",
            "Image /content/drive/MyDrive/brain_tumor_dataset/no/40 no.jpg has cancer (Yes)\n",
            "Image /content/drive/MyDrive/brain_tumor_dataset/yes/Y186.jpg has cancer (Yes)\n",
            "Image /content/drive/MyDrive/brain_tumor_dataset/yes/Y10.jpg has cancer (Yes)\n",
            "Image /content/drive/MyDrive/brain_tumor_dataset/yes/Y20.jpg has cancer (Yes)\n",
            "Image /content/drive/MyDrive/brain_tumor_dataset/yes/Y188.jpg has cancer (Yes)\n",
            "Image /content/drive/MyDrive/brain_tumor_dataset/yes/Y104.jpg has cancer (Yes)\n",
            "Image /content/drive/MyDrive/brain_tumor_dataset/yes/Y107.jpg does not have cancer (No)\n",
            "Image /content/drive/MyDrive/brain_tumor_dataset/yes/Y69.jpg has cancer (Yes)\n",
            "Image /content/drive/MyDrive/brain_tumor_dataset/no/50 no.jpg has cancer (Yes)\n",
            "Image /content/drive/MyDrive/brain_tumor_dataset/yes/Y76.jpg has cancer (Yes)\n",
            "Image /content/drive/MyDrive/brain_tumor_dataset/yes/Y33.jpg does not have cancer (No)\n",
            "Image /content/drive/MyDrive/brain_tumor_dataset/yes/Y51.jpg has cancer (Yes)\n",
            "Image /content/drive/MyDrive/brain_tumor_dataset/yes/Y3.jpg has cancer (Yes)\n",
            "Image /content/drive/MyDrive/brain_tumor_dataset/no/no 923.jpg has cancer (Yes)\n",
            "Image /content/drive/MyDrive/brain_tumor_dataset/no/34 no.jpg has cancer (Yes)\n"
          ]
        }
      ]
    },
    {
      "cell_type": "code",
      "source": [
        "image_path = '/content/drive/MyDrive/brain_tumor_dataset/yes/Y1.jpg'"
      ],
      "metadata": {
        "id": "Rbpte_WRKzzf"
      },
      "execution_count": null,
      "outputs": []
    },
    {
      "cell_type": "code",
      "source": [
        "img = image.load_img(image_path, target_size=(64, 64))\n",
        "img = image.img_to_array(img)\n",
        "img = np.expand_dims(img, axis=0)\n",
        "img = img / 255.0  # Normalize the pixel values"
      ],
      "metadata": {
        "id": "JamHSW9pK8Jh"
      },
      "execution_count": null,
      "outputs": []
    },
    {
      "cell_type": "code",
      "source": [
        "prediction = model.predict(img)"
      ],
      "metadata": {
        "colab": {
          "base_uri": "https://localhost:8080/"
        },
        "id": "hcQ5CIrWK-8u",
        "outputId": "7cebd2b3-0190-4f41-da5c-474c524bdf2d"
      },
      "execution_count": null,
      "outputs": [
        {
          "output_type": "stream",
          "name": "stdout",
          "text": [
            "1/1 [==============================] - 0s 110ms/step\n"
          ]
        }
      ]
    },
    {
      "cell_type": "code",
      "source": [
        "predicted_class = 1 if prediction > 0.5 else 0"
      ],
      "metadata": {
        "id": "doGyYy3qLBMC"
      },
      "execution_count": null,
      "outputs": []
    },
    {
      "cell_type": "code",
      "source": [
        "if predicted_class == 1:\n",
        "    print(\"The image has cancer (Yes)\")\n",
        "else:\n",
        "    print(\"The image does not have cancer (No)\")"
      ],
      "metadata": {
        "colab": {
          "base_uri": "https://localhost:8080/"
        },
        "id": "R-Zr3xH8LDWT",
        "outputId": "371899d6-c65b-4316-ca2f-7a71329a905b"
      },
      "execution_count": null,
      "outputs": [
        {
          "output_type": "stream",
          "name": "stdout",
          "text": [
            "The image has cancer (Yes)\n"
          ]
        }
      ]
    },
    {
      "cell_type": "code",
      "source": [],
      "metadata": {
        "id": "THy6STBbLFoZ"
      },
      "execution_count": null,
      "outputs": []
    }
  ]
}
